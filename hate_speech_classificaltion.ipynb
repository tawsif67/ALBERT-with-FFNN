{
  "cells": [
    {
      "cell_type": "markdown",
      "source": [
        "# Mounting the Drive and Creating Save Folder"
      ],
      "metadata": {
        "id": "vNeXeC8RPkzt"
      }
    },
    {
      "cell_type": "code",
      "execution_count": null,
      "metadata": {
        "colab": {
          "base_uri": "https://localhost:8080/"
        },
        "id": "_mSazJqpTYzm",
        "outputId": "f9a57c9c-c78b-403c-d60a-32869061f08a"
      },
      "outputs": [
        {
          "output_type": "stream",
          "name": "stdout",
          "text": [
            "Mounted at /content/drive\n",
            "mkdir: cannot create directory ‘/content/drive/MyDrive/albert_models’: File exists\n"
          ]
        }
      ],
      "source": [
        "# Import the necessary libraries\n",
        "from google.colab import drive\n",
        "from google.colab import files\n",
        "\n",
        "# Mount Google Drive\n",
        "drive.mount('/content/drive')\n",
        "\n",
        "# Create a folder in Google Drive\n",
        "folder_name = 'albert_models'\n",
        "folder_path = '/content/drive/MyDrive/' + folder_name\n",
        "!mkdir \"{folder_path}\""
      ]
    },
    {
      "cell_type": "markdown",
      "metadata": {
        "id": "HMDLJ8ynSF8f"
      },
      "source": [
        "# Uploading the Dataset"
      ]
    },
    {
      "cell_type": "code",
      "execution_count": null,
      "metadata": {
        "colab": {
          "base_uri": "https://localhost:8080/"
        },
        "id": "v5b_rsMXNoY-",
        "outputId": "3c139c76-114c-474a-fe8c-423b4aacd70a"
      },
      "outputs": [
        {
          "output_type": "stream",
          "name": "stdout",
          "text": [
            "   Unnamed: 0  count  hate_speech  offensive_language  neither  class  \\\n",
            "0           0      3            0                   0        3      2   \n",
            "1           1      3            0                   3        0      1   \n",
            "2           2      3            0                   3        0      1   \n",
            "3           3      3            0                   2        1      1   \n",
            "4           4      6            0                   6        0      1   \n",
            "\n",
            "                                               tweet  \n",
            "0  !!! RT @mayasolovely: As a woman you shouldn't...  \n",
            "1  !!!!! RT @mleew17: boy dats cold...tyga dwn ba...  \n",
            "2  !!!!!!! RT @UrKindOfBrand Dawg!!!! RT @80sbaby...  \n",
            "3  !!!!!!!!! RT @C_G_Anderson: @viva_based she lo...  \n",
            "4  !!!!!!!!!!!!! RT @ShenikaRoberts: The shit you...  \n"
          ]
        }
      ],
      "source": [
        "import pandas as pd\n",
        "import numpy as np\n",
        "data_path = '/content/labeled_data.csv'\n",
        "hate_speech = pd.read_csv(data_path)\n",
        "print(hate_speech.head())"
      ]
    },
    {
      "cell_type": "markdown",
      "metadata": {
        "id": "wCw166UTSCnO"
      },
      "source": [
        "# Cleaning the Dataset"
      ]
    },
    {
      "cell_type": "code",
      "execution_count": null,
      "metadata": {
        "colab": {
          "base_uri": "https://localhost:8080/"
        },
        "id": "3I4s2eS3Nwov",
        "outputId": "bbc78991-bfb3-4f41-f883-f0933cab17c9"
      },
      "outputs": [
        {
          "output_type": "stream",
          "name": "stdout",
          "text": [
            "   class                                              tweet\n",
            "0      2  ! RT  As a woman you shouldn't complain about ...\n",
            "1      1  ! RT  boy dats cold.tyga dwn bad for cuffin da...\n",
            "2      1  ! RT  You ever fuck a bitch and she start to c...\n",
            "3      1           ! RT  @viva_based she look like a tranny\n",
            "4      1  ! RT  The shit you hear about me might be true...\n"
          ]
        }
      ],
      "source": [
        "import re\n",
        "hate_speech = hate_speech.drop('count', axis=1)\n",
        "data_df = hate_speech\n",
        "data_df = data_df.rename(columns={data_df.columns[0]: 'index'})\n",
        "data_df = data_df.drop('index', axis=1)\n",
        "data_df = data_df.drop('hate_speech', axis=1)\n",
        "data_df = data_df.drop('neither', axis=1)\n",
        "data_df = data_df.drop('offensive_language', axis=1)\n",
        "data_df['tweet'] = data_df['tweet'].str.replace('@.*?:', '', regex=True)\n",
        "data_df['tweet'] = data_df['tweet'].str.replace('@.*?;', '', regex=True)\n",
        "data_df['tweet'] = data_df['tweet'].str.replace('(http\\S+|www\\.\\S+)', '', regex=True)\n",
        "df = data_df\n",
        "pattern = re.compile(r'([^\\w\\s])(?=\\1)')\n",
        "df['tweet'] = df['tweet'].apply(lambda x: re.sub(pattern, '', x))\n",
        "data_df = df\n",
        "print(data_df.head())"
      ]
    },
    {
      "cell_type": "markdown",
      "metadata": {
        "id": "oQK63Ua8SKOO"
      },
      "source": [
        "# Creating a Sample Dataset"
      ]
    },
    {
      "cell_type": "code",
      "execution_count": null,
      "metadata": {
        "colab": {
          "base_uri": "https://localhost:8080/"
        },
        "id": "vChaQipGN_DC",
        "outputId": "26b164cf-51ba-4bc4-d67d-f1e64826c8bc"
      },
      "outputs": [
        {
          "output_type": "stream",
          "name": "stdout",
          "text": [
            "Original dataframe size: (24783, 2)\n",
            "Sample dataframe size: (24783, 2)\n"
          ]
        }
      ],
      "source": [
        "import pandas as pd\n",
        "\n",
        "df = data_df\n",
        "\n",
        "sample_df = df.sample(frac=1)\n",
        "augmented_df = sample_df\n",
        "\n",
        "# Print the sizes of the original and sample dataframes\n",
        "print('Original dataframe size:', df.shape)\n",
        "print('Sample dataframe size:', sample_df.shape)"
      ]
    },
    {
      "cell_type": "markdown",
      "source": [
        "# Word Swapping"
      ],
      "metadata": {
        "id": "01kkams8fjsU"
      }
    },
    {
      "cell_type": "code",
      "source": [
        "import pandas as pd\n",
        "import nltk\n",
        "import random\n",
        "\n",
        "nltk.download('omw-1.4')\n",
        "nltk.download('punkt')\n",
        "nltk.download('averaged_perceptron_tagger')\n",
        "nltk.download('wordnet')\n",
        "\n",
        "df = sample_df\n",
        "\n",
        "columns_to_keep = ['tweet', 'class']\n",
        "augmented_data = []\n",
        "\n",
        "def word_swap(text):\n",
        "    # tokenize the text into words\n",
        "    words = nltk.word_tokenize(text)\n",
        "\n",
        "    # get the part-of-speech tags for the words\n",
        "    pos_tags = nltk.pos_tag(words)\n",
        "\n",
        "    swapped_words = []\n",
        "\n",
        "    # iterate over each word and its tag\n",
        "    for word, tag in pos_tags:\n",
        "        # if the word is a noun, verb, adjective, or adverb, try to find a synonym\n",
        "        if tag.startswith('N') or tag.startswith('V') or tag.startswith('J') or tag.startswith('R'):\n",
        "            synonyms = nltk.corpus.wordnet.synsets(word)\n",
        "            if synonyms:\n",
        "                synonym = random.choice(synonyms).lemmas()[0].name()\n",
        "                swapped_words.append(synonym)\n",
        "            else:\n",
        "                swapped_words.append(word)\n",
        "        else:\n",
        "            swapped_words.append(word)\n",
        "\n",
        "    # join the swapped words back into a single string\n",
        "    swapped_text = ' '.join(swapped_words)\n",
        "\n",
        "    return swapped_text\n",
        "\n",
        "# iterate over each row in the original dataset\n",
        "for index, row in df.iterrows():\n",
        "    # get the tweet text and class label\n",
        "    tweet = row['tweet']\n",
        "    label = row['class']\n",
        "\n",
        "    # add the original tweet to the augmented data\n",
        "    augmented_data.append({'tweet': tweet, 'class': label})\n",
        "\n",
        "    # perform word swapping on the tweet text for class 0 and 2 only\n",
        "    if label == 0:\n",
        "        for i in range(6):\n",
        "            swapped_text = word_swap(tweet)\n",
        "            augmented_data.append({'tweet': swapped_text, 'class': label})\n",
        "    elif label == 2:\n",
        "        for i in range(2):\n",
        "            swapped_text = word_swap(tweet)\n",
        "            augmented_data.append({'tweet': swapped_text, 'class': label})\n",
        "\n",
        "# convert the augmented data to a DataFrame\n",
        "augmented_df = pd.DataFrame(augmented_data, columns=columns_to_keep)\n",
        "\n",
        "# print the first few rows of the augmented dataset\n",
        "print(augmented_df.head())"
      ],
      "metadata": {
        "colab": {
          "base_uri": "https://localhost:8080/"
        },
        "id": "QjDvS5rCM1Yx",
        "outputId": "7d4a8602-677f-44fe-8f4d-2b6921b6028b"
      },
      "execution_count": null,
      "outputs": [
        {
          "output_type": "stream",
          "name": "stderr",
          "text": [
            "[nltk_data] Downloading package omw-1.4 to /root/nltk_data...\n",
            "[nltk_data]   Package omw-1.4 is already up-to-date!\n",
            "[nltk_data] Downloading package punkt to /root/nltk_data...\n",
            "[nltk_data]   Package punkt is already up-to-date!\n",
            "[nltk_data] Downloading package averaged_perceptron_tagger to\n",
            "[nltk_data]     /root/nltk_data...\n",
            "[nltk_data]   Package averaged_perceptron_tagger is already up-to-\n",
            "[nltk_data]       date!\n",
            "[nltk_data] Downloading package wordnet to /root/nltk_data...\n",
            "[nltk_data]   Package wordnet is already up-to-date!\n"
          ]
        },
        {
          "output_type": "stream",
          "name": "stdout",
          "text": [
            "                                               tweet  class\n",
            "0  &#128114;&#128069;&#128166;&#128149; - &#12851...      1\n",
            "1  @OfficialSkai dont tell me what to do. fuck ba...      0\n",
            "2  @ OfficialSkai dont assure me what to do . sle...      0\n",
            "3  @ OfficialSkai dont tell me what to practice ....      0\n",
            "4  @ OfficialSkai dont Tell me what to do . sleep...      0\n"
          ]
        }
      ]
    },
    {
      "cell_type": "markdown",
      "source": [
        "\n",
        "# Visulalizing the Class Count in Sample Data"
      ],
      "metadata": {
        "id": "Op_I0t7lPWPc"
      }
    },
    {
      "cell_type": "code",
      "source": [
        "import matplotlib.pyplot as plt\n",
        "\n",
        "# Sample labels\n",
        "labels = result['class']\n",
        "\n",
        "# Plot the classes\n",
        "plt.hist(labels, bins=range(4), align='left', rwidth=0.8)\n",
        "\n",
        "# Set the x-axis tick labels\n",
        "plt.xticks(range(3), ['Class 0', 'Class 1', 'Class 2'])\n",
        "\n",
        "# Set the axis labels and title\n",
        "plt.xlabel('Class')\n",
        "plt.ylabel('Count')\n",
        "plt.title('Class Distribution')\n",
        "\n",
        "# Show the plot\n",
        "plt.show()"
      ],
      "metadata": {
        "colab": {
          "base_uri": "https://localhost:8080/",
          "height": 295
        },
        "id": "oAk0rPUUOMx5",
        "outputId": "fff33907-35f4-48f2-98d1-4f80efc9d615"
      },
      "execution_count": null,
      "outputs": [
        {
          "output_type": "display_data",
          "data": {
            "text/plain": [
              "<Figure size 432x288 with 1 Axes>"
            ],
            "image/png": "[encoded data removed]"
          },
          "metadata": {
            "needs_background": "light"
          }
        }
      ]
    },
    {
      "cell_type": "markdown",
      "source": [
        "# Visulalizing the Class Count in Augmented Data"
      ],
      "metadata": {
        "id": "AR3FMlBiPdA1"
      }
    },
    {
      "cell_type": "code",
      "source": [
        "import matplotlib.pyplot as plt\n",
        "\n",
        "# Sample labels\n",
        "labels = augmented_df['class']\n",
        "\n",
        "# Plot the classes\n",
        "\n",
        "plt.hist(labels, bins=range(4), align='left', rwidth=0.8)\n",
        "\n",
        "# Set the x-axis tick labels\n",
        "plt.xticks(range(3), ['Class 0', 'Class 1', 'Class 2'])\n",
        "\n",
        "# Set the axis labels and title\n",
        "plt.xlabel('Class')\n",
        "plt.ylabel('Count')\n",
        "plt.title('Class Distribution')\n",
        "\n",
        "# Show the plot\n",
        "plt.show()"
      ],
      "metadata": {
        "colab": {
          "base_uri": "https://localhost:8080/",
          "height": 295
        },
        "id": "zCl7ds3HNBmu",
        "outputId": "75cc7923-20cb-4a46-83ab-c41cf93ca7f3"
      },
      "execution_count": null,
      "outputs": [
        {
          "output_type": "display_data",
          "data": {
            "text/plain": [
              "<Figure size 432x288 with 1 Axes>"
            ],
            "image/png": "[encoded data removed]"
          },
          "metadata": {
            "needs_background": "light"
          }
        }
      ]
    },
    {
      "cell_type": "markdown",
      "source": [
        "# Installing necessary elements"
      ],
      "metadata": {
        "id": "rP3HRtHGPY06"
      }
    },
    {
      "cell_type": "code",
      "source": [
        "!pip install transformers\n",
        "!pip install sentencepiece\n",
        "import torch\n",
        "from torch.utils.data import DataLoader, Dataset, random_split\n",
        "from transformers import AlbertTokenizer,  AdamW\n",
        "from torch.cuda.amp import GradScaler, autocast\n",
        "from sklearn.metrics import accuracy_score, confusion_matrix, f1_score\n",
        "import matplotlib.pyplot as plt\n",
        "import numpy as np\n",
        "import os\n",
        "import shutil\n",
        "import seaborn as sns\n",
        "import tensorflow as tf"
      ],
      "metadata": {
        "id": "EF965OUFkgwh",
        "colab": {
          "base_uri": "https://localhost:8080/"
        },
        "outputId": "79f80f14-861e-4246-8074-7ee6651faecf"
      },
      "execution_count": null,
      "outputs": [
        {
          "output_type": "stream",
          "name": "stdout",
          "text": [
            "Looking in indexes: https://pypi.org/simple, https://us-python.pkg.dev/colab-wheels/public/simple/\n",
            "Requirement already satisfied: transformers in /usr/local/lib/python3.9/dist-packages (4.27.3)\n",
            "Requirement already satisfied: tqdm>=4.27 in /usr/local/lib/python3.9/dist-packages (from transformers) (4.65.0)\n",
            "Requirement already satisfied: numpy>=1.17 in /usr/local/lib/python3.9/dist-packages (from transformers) (1.22.4)\n",
            "Requirement already satisfied: tokenizers!=0.11.3,<0.14,>=0.11.1 in /usr/local/lib/python3.9/dist-packages (from transformers) (0.13.2)\n",
            "Requirement already satisfied: huggingface-hub<1.0,>=0.11.0 in /usr/local/lib/python3.9/dist-packages (from transformers) (0.13.3)\n",
            "Requirement already satisfied: pyyaml>=5.1 in /usr/local/lib/python3.9/dist-packages (from transformers) (6.0)\n",
            "Requirement already satisfied: requests in /usr/local/lib/python3.9/dist-packages (from transformers) (2.27.1)\n",
            "Requirement already satisfied: regex!=2019.12.17 in /usr/local/lib/python3.9/dist-packages (from transformers) (2022.10.31)\n",
            "Requirement already satisfied: packaging>=20.0 in /usr/local/lib/python3.9/dist-packages (from transformers) (23.0)\n",
            "Requirement already satisfied: filelock in /usr/local/lib/python3.9/dist-packages (from transformers) (3.10.2)\n",
            "Requirement already satisfied: typing-extensions>=3.7.4.3 in /usr/local/lib/python3.9/dist-packages (from huggingface-hub<1.0,>=0.11.0->transformers) (4.5.0)\n",
            "Requirement already satisfied: certifi>=2017.4.17 in /usr/local/lib/python3.9/dist-packages (from requests->transformers) (2022.12.7)\n",
            "Requirement already satisfied: idna<4,>=2.5 in /usr/local/lib/python3.9/dist-packages (from requests->transformers) (3.4)\n",
            "Requirement already satisfied: urllib3<1.27,>=1.21.1 in /usr/local/lib/python3.9/dist-packages (from requests->transformers) (1.26.15)\n",
            "Requirement already satisfied: charset-normalizer~=2.0.0 in /usr/local/lib/python3.9/dist-packages (from requests->transformers) (2.0.12)\n",
            "Looking in indexes: https://pypi.org/simple, https://us-python.pkg.dev/colab-wheels/public/simple/\n",
            "Requirement already satisfied: sentencepiece in /usr/local/lib/python3.9/dist-packages (0.1.97)\n"
          ]
        }
      ]
    },
    {
      "cell_type": "markdown",
      "source": [
        "# Defining Alberta Model"
      ],
      "metadata": {
        "id": "cFuBhd2TVbaX"
      }
    },
    {
      "cell_type": "code",
      "execution_count": null,
      "metadata": {
        "id": "KYk6KpJnNIei",
        "colab": {
          "base_uri": "https://localhost:8080/",
          "height": 81,
          "referenced_widgets": [
            "c299d842cadc47f9b43c80e0f7834085",
            "2194041b9cfb4d21899da527245a8104",
            "9bfae9fa48ee4560abb671f3c4906c6b",
            "6110564306eb4a65b1b5ac64b25ffc99",
            "6426e6c24b5d4e15bf559fb3a91be984",
            "48d52e7e343b425fae5cbec450814fbc",
            "6b0ff3d9cb76461e873b23da3fd15d5c",
            "ebec3c1c902e492e887bb0faba31b33a",
            "0843d2cfce5749199d739e14b8410efa",
            "cd392ccac08340979906eea8449e1f31",
            "b2da71b7f077431092d0d968ef12b03e",
            "a7eaa45c7ee54dbe85f781a578f520ea",
            "04e1269a87484f8285d8378373f6e6ad",
            "be6410725d4f4d53986053cd610f9633",
            "5f993a37262149de82ab5ebf39f0ed14",
            "00791a5e7dd84abcb453154ffee50c52",
            "e0b13623ffb5494982ac92f85b31d651",
            "010ebb02ae1f410095921059bba2ef60",
            "83db61e48fa144429207282c176531ab",
            "c20cf83edeae4f4cbd4b64cb2de59a7e",
            "499909fe37c94774a2b3f7fa9eaaf76e",
            "1d498b13af344ce78136f66050da1c4d"
          ]
        },
        "outputId": "14411365-2c20-4f88-f3ef-333f7f99a560"
      },
      "outputs": [
        {
          "output_type": "display_data",
          "data": {
            "text/plain": [
              "Downloading (…)ve/main/spiece.model:   0%|          | 0.00/760k [00:00<?, ?B/s]"
            ],
            "application/vnd.jupyter.widget-view+json": {
              "version_major": 2,
              "version_minor": 0,
              "model_id": "c299d842cadc47f9b43c80e0f7834085"
            }
          },
          "metadata": {}
        },
        {
          "output_type": "display_data",
          "data": {
            "text/plain": [
              "Downloading (…)lve/main/config.json:   0%|          | 0.00/684 [00:00<?, ?B/s]"
            ],
            "application/vnd.jupyter.widget-view+json": {
              "version_major": 2,
              "version_minor": 0,
              "model_id": "a7eaa45c7ee54dbe85f781a578f520ea"
            }
          },
          "metadata": {}
        }
      ],
      "source": [
        "import torch\n",
        "import torch.nn as nn\n",
        "from transformers import AlbertTokenizer, AlbertForSequenceClassification, Trainer, TrainingArguments, EarlyStoppingCallback, AlbertModel, AdamW\n",
        "from sklearn.model_selection import train_test_split\n",
        "\n",
        "tokenizer = AlbertTokenizer.from_pretrained('albert-base-v2')\n",
        "\n",
        "class ModifiedAlbertForSequenceClassification(AlbertForSequenceClassification):\n",
        "    def __init__(self, config, hidden_size=32, num_ffnn_layers=1, ffnn_hidden_size=32, dropout_prob=0.2):\n",
        "        super().__init__(config)\n",
        "        self.albert = AlbertModel(config)\n",
        "        self.dropout = nn.Dropout(dropout_prob)\n",
        "        self.pooler = nn.Linear(config.hidden_size, hidden_size)\n",
        "        self.ffnn_layers = nn.ModuleList([\n",
        "            nn.Linear(hidden_size, ffnn_hidden_size),\n",
        "            nn.ReLU(),\n",
        "            nn.Dropout(dropout_prob)\n",
        "        ])\n",
        "        for i in range(num_ffnn_layers - 1):\n",
        "            self.ffnn_layers.extend([\n",
        "                nn.Linear(ffnn_hidden_size, ffnn_hidden_size),\n",
        "                nn.ReLU(),\n",
        "                nn.Dropout(dropout_prob)\n",
        "            ])\n",
        "        self.classifier = nn.Linear(ffnn_hidden_size, config.num_labels)\n",
        "\n",
        "    def forward(self, input_ids, attention_mask=None, token_type_ids=None, position_ids=None, head_mask=None, labels=None):\n",
        "        outputs = self.albert(input_ids, attention_mask=attention_mask, token_type_ids=token_type_ids, position_ids=position_ids, head_mask=head_mask)\n",
        "        last_hidden_states = outputs.last_hidden_state\n",
        "        last_hidden_states = self.dropout(last_hidden_states)\n",
        "\n",
        "        # use the CLS token as input to the pooling layer\n",
        "        pooled_output = self.pooler(last_hidden_states[:, 0, :])\n",
        "\n",
        "        # pass the pooled output through the FFNN layers\n",
        "        for layer in self.ffnn_layers:\n",
        "            pooled_output = layer(pooled_output)\n",
        "\n",
        "        # pass the output of the FFNN layers to the linear classifier layer with softmax\n",
        "        logits = self.classifier(pooled_output)\n",
        "        outputs = (logits,) + outputs[2:]\n",
        "        if labels is not None:\n",
        "            if self.num_labels == 1:\n",
        "                # regression task\n",
        "                loss_fct = nn.MSELoss()\n",
        "                loss = loss_fct(logits.view(-1), labels.view(-1))\n",
        "            else:\n",
        "                loss_fct = nn.CrossEntropyLoss()\n",
        "                loss = loss_fct(logits.view(-1, self.num_labels), labels.view(-1))\n",
        "            outputs = (loss,) + outputs\n",
        "\n",
        "        return outputs"
      ]
    },
    {
      "cell_type": "markdown",
      "source": [
        "# Training Arguments"
      ],
      "metadata": {
        "id": "OzhtvEy2QdGk"
      }
    },
    {
      "cell_type": "code",
      "source": [
        "# Set up the training arguments\n",
        "num_epochs = 1\n",
        "batch_size = 16\n",
        "learning_rate = 2e-5\n",
        "warmup_steps = 50\n",
        "weight_decay = 0.01\n",
        "gradient_accumulation_steps = 4  # Accumulate gradients every 4 steps\n",
        "\n",
        "# Install and import wandb\n",
        "!pip install wandb\n",
        "import wandb\n",
        "\n",
        "# Login to wandb\n",
        "wandb.login()\n",
        "\n",
        "# Initialize a new wandb run for the project \"my_project\"\n",
        "wandb.init(project=\"hate_speech_final\")"
      ],
      "metadata": {
        "colab": {
          "base_uri": "https://localhost:8080/",
          "height": 978
        },
        "id": "aMyDC3XTQcUq",
        "outputId": "ac263d9b-7afd-4024-b50a-1ce8aed49fe1"
      },
      "execution_count": null,
      "outputs": [
        {
          "output_type": "stream",
          "name": "stdout",
          "text": [
            "Looking in indexes: https://pypi.org/simple, https://us-python.pkg.dev/colab-wheels/public/simple/\n",
            "Collecting wandb\n",
            "  Downloading wandb-0.14.0-py3-none-any.whl (2.0 MB)\n",
            "\u001b[2K     \u001b[90m━━━━━━━━━━━━━━━━━━━━━━━━━━━━━━━━━━━━━━━━\u001b[0m \u001b[32m2.0/2.0 MB\u001b[0m \u001b[31m15.4 MB/s\u001b[0m eta \u001b[36m0:00:00\u001b[0m\n",
            "\u001b[?25hRequirement already satisfied: setuptools in /usr/local/lib/python3.9/dist-packages (from wandb) (67.6.0)\n",
            "Collecting pathtools\n",
            "  Downloading pathtools-0.1.2.tar.gz (11 kB)\n",
            "  Preparing metadata (setup.py) ... \u001b[?25l\u001b[?25hdone\n",
            "Requirement already satisfied: psutil>=5.0.0 in /usr/local/lib/python3.9/dist-packages (from wandb) (5.9.4)\n",
            "Requirement already satisfied: typing-extensions in /usr/local/lib/python3.9/dist-packages (from wandb) (4.5.0)\n",
            "Requirement already satisfied: PyYAML in /usr/local/lib/python3.9/dist-packages (from wandb) (6.0)\n",
            "Collecting sentry-sdk>=1.0.0\n",
            "  Downloading sentry_sdk-1.18.0-py2.py3-none-any.whl (194 kB)\n",
            "\u001b[2K     \u001b[90m━━━━━━━━━━━━━━━━━━━━━━━━━━━━━━━━━━━━━━\u001b[0m \u001b[32m194.8/194.8 KB\u001b[0m \u001b[31m10.0 MB/s\u001b[0m eta \u001b[36m0:00:00\u001b[0m\n",
            "\u001b[?25hCollecting GitPython!=3.1.29,>=1.0.0\n",
            "  Downloading GitPython-3.1.31-py3-none-any.whl (184 kB)\n",
            "\u001b[2K     \u001b[90m━━━━━━━━━━━━━━━━━━━━━━━━━━━━━━━━━━━━━━\u001b[0m \u001b[32m184.3/184.3 KB\u001b[0m \u001b[31m13.4 MB/s\u001b[0m eta \u001b[36m0:00:00\u001b[0m\n",
            "\u001b[?25hRequirement already satisfied: requests<3,>=2.0.0 in /usr/local/lib/python3.9/dist-packages (from wandb) (2.27.1)\n",
            "Collecting docker-pycreds>=0.4.0\n",
            "  Downloading docker_pycreds-0.4.0-py2.py3-none-any.whl (9.0 kB)\n",
            "Requirement already satisfied: appdirs>=1.4.3 in /usr/local/lib/python3.9/dist-packages (from wandb) (1.4.4)\n",
            "Requirement already satisfied: protobuf!=4.21.0,<5,>=3.15.0 in /usr/local/lib/python3.9/dist-packages (from wandb) (3.19.6)\n",
            "Requirement already satisfied: Click!=8.0.0,>=7.0 in /usr/local/lib/python3.9/dist-packages (from wandb) (8.1.3)\n",
            "Collecting setproctitle\n",
            "  Downloading setproctitle-1.3.2-cp39-cp39-manylinux_2_5_x86_64.manylinux1_x86_64.manylinux_2_17_x86_64.manylinux2014_x86_64.whl (30 kB)\n",
            "Requirement already satisfied: six>=1.4.0 in /usr/local/lib/python3.9/dist-packages (from docker-pycreds>=0.4.0->wandb) (1.16.0)\n",
            "Collecting gitdb<5,>=4.0.1\n",
            "  Downloading gitdb-4.0.10-py3-none-any.whl (62 kB)\n",
            "\u001b[2K     \u001b[90m━━━━━━━━━━━━━━━━━━━━━━━━━━━━━━━━━━━━━━━━\u001b[0m \u001b[32m62.7/62.7 KB\u001b[0m \u001b[31m4.9 MB/s\u001b[0m eta \u001b[36m0:00:00\u001b[0m\n",
            "\u001b[?25hRequirement already satisfied: urllib3<1.27,>=1.21.1 in /usr/local/lib/python3.9/dist-packages (from requests<3,>=2.0.0->wandb) (1.26.15)\n",
            "Requirement already satisfied: certifi>=2017.4.17 in /usr/local/lib/python3.9/dist-packages (from requests<3,>=2.0.0->wandb) (2022.12.7)\n",
            "Requirement already satisfied: idna<4,>=2.5 in /usr/local/lib/python3.9/dist-packages (from requests<3,>=2.0.0->wandb) (3.4)\n",
            "Requirement already satisfied: charset-normalizer~=2.0.0 in /usr/local/lib/python3.9/dist-packages (from requests<3,>=2.0.0->wandb) (2.0.12)\n",
            "Collecting smmap<6,>=3.0.1\n",
            "  Downloading smmap-5.0.0-py3-none-any.whl (24 kB)\n",
            "Building wheels for collected packages: pathtools\n",
            "  Building wheel for pathtools (setup.py) ... \u001b[?25l\u001b[?25hdone\n",
            "  Created wheel for pathtools: filename=pathtools-0.1.2-py3-none-any.whl size=8807 sha256=bbfbd23152ad2c1ad92852cb4ecd16eb0e1546c46648dcf14398201658064939\n",
            "  Stored in directory: /root/.cache/pip/wheels/b7/0a/67/ada2a22079218c75a88361c0782855cc72aebc4d18d0289d05\n",
            "Successfully built pathtools\n",
            "Installing collected packages: pathtools, smmap, setproctitle, sentry-sdk, docker-pycreds, gitdb, GitPython, wandb\n",
            "Successfully installed GitPython-3.1.31 docker-pycreds-0.4.0 gitdb-4.0.10 pathtools-0.1.2 sentry-sdk-1.18.0 setproctitle-1.3.2 smmap-5.0.0 wandb-0.14.0\n"
          ]
        },
        {
          "output_type": "display_data",
          "data": {
            "text/plain": [
              "<IPython.core.display.Javascript object>"
            ],
            "application/javascript": [
              "\n",
              "        window._wandbApiKey = new Promise((resolve, reject) => {\n",
              "            function loadScript(url) {\n",
              "            return new Promise(function(resolve, reject) {\n",
              "                let newScript = document.createElement(\"script\");\n",
              "                newScript.onerror = reject;\n",
              "                newScript.onload = resolve;\n",
              "                document.body.appendChild(newScript);\n",
              "                newScript.src = url;\n",
              "            });\n",
              "            }\n",
              "            loadScript(\"https://cdn.jsdelivr.net/npm/postmate/build/postmate.min.js\").then(() => {\n",
              "            const iframe = document.createElement('iframe')\n",
              "            iframe.style.cssText = \"width:0;height:0;border:none\"\n",
              "            document.body.appendChild(iframe)\n",
              "            const handshake = new Postmate({\n",
              "                container: iframe,\n",
              "                url: 'https://wandb.ai/authorize'\n",
              "            });\n",
              "            const timeout = setTimeout(() => reject(\"Couldn't auto authenticate\"), 5000)\n",
              "            handshake.then(function(child) {\n",
              "                child.on('authorize', data => {\n",
              "                    clearTimeout(timeout)\n",
              "                    resolve(data)\n",
              "                });\n",
              "            });\n",
              "            })\n",
              "        });\n",
              "    "
            ]
          },
          "metadata": {}
        },
        {
          "output_type": "stream",
          "name": "stderr",
          "text": [
            "\u001b[34m\u001b[1mwandb\u001b[0m: Logging into wandb.ai. (Learn how to deploy a W&B server locally: https://wandb.me/wandb-server)\n",
            "\u001b[34m\u001b[1mwandb\u001b[0m: You can find your API key in your browser here: https://wandb.ai/authorize\n",
            "wandb: Paste an API key from your profile and hit enter, or press ctrl+c to quit:"
          ]
        },
        {
          "name": "stdout",
          "output_type": "stream",
          "text": [
            " ··········\n"
          ]
        },
        {
          "output_type": "stream",
          "name": "stderr",
          "text": [
            "\u001b[34m\u001b[1mwandb\u001b[0m: Appending key for api.wandb.ai to your netrc file: /root/.netrc\n",
            "\u001b[34m\u001b[1mwandb\u001b[0m: Currently logged in as: \u001b[33mtawsif\u001b[0m. Use \u001b[1m`wandb login --relogin`\u001b[0m to force relogin\n"
          ]
        },
        {
          "output_type": "display_data",
          "data": {
            "text/plain": [
              "<IPython.core.display.HTML object>"
            ],
            "text/html": [
              "Tracking run with wandb version 0.14.0"
            ]
          },
          "metadata": {}
        },
        {
          "output_type": "display_data",
          "data": {
            "text/plain": [
              "<IPython.core.display.HTML object>"
            ],
            "text/html": [
              "Run data is saved locally in <code>/content/wandb/run-20230329_130827-o2h5m49e</code>"
            ]
          },
          "metadata": {}
        },
        {
          "output_type": "display_data",
          "data": {
            "text/plain": [
              "<IPython.core.display.HTML object>"
            ],
            "text/html": [
              "Syncing run <strong><a href='https://wandb.ai/tawsif/hate_speech_final/runs/o2h5m49e' target=\"_blank\">lemon-voice-1</a></strong> to <a href='https://wandb.ai/tawsif/hate_speech_final' target=\"_blank\">Weights & Biases</a> (<a href='https://wandb.me/run' target=\"_blank\">docs</a>)<br/>"
            ]
          },
          "metadata": {}
        },
        {
          "output_type": "display_data",
          "data": {
            "text/plain": [
              "<IPython.core.display.HTML object>"
            ],
            "text/html": [
              " View project at <a href='https://wandb.ai/tawsif/hate_speech_final' target=\"_blank\">https://wandb.ai/tawsif/hate_speech_final</a>"
            ]
          },
          "metadata": {}
        },
        {
          "output_type": "display_data",
          "data": {
            "text/plain": [
              "<IPython.core.display.HTML object>"
            ],
            "text/html": [
              " View run at <a href='https://wandb.ai/tawsif/hate_speech_final/runs/o2h5m49e' target=\"_blank\">https://wandb.ai/tawsif/hate_speech_final/runs/o2h5m49e</a>"
            ]
          },
          "metadata": {}
        },
        {
          "output_type": "execute_result",
          "data": {
            "text/html": [
              "<button onClick=\"this.nextSibling.style.display='block';this.style.display='none';\">Display W&B run</button><iframe src='https://wandb.ai/tawsif/hate_speech_final/runs/o2h5m49e?jupyter=true' style='border:none;width:100%;height:420px;display:none;'></iframe>"
            ],
            "text/plain": [
              "<wandb.sdk.wandb_run.Run at 0x7fa94a337f10>"
            ]
          },
          "metadata": {},
          "execution_count": 7
        }
      ]
    },
    {
      "cell_type": "markdown",
      "metadata": {
        "id": "-r2G-Qr39gbZ"
      },
      "source": [
        "# Stratifying the Data"
      ]
    },
    {
      "cell_type": "code",
      "source": [
        "device = torch.device('cuda') if torch.cuda.is_available() else torch.device('cpu')\n",
        "from sklearn.model_selection import StratifiedShuffleSplit\n",
        "# Load the dataset\n",
        "df = data_df\n",
        "\n",
        "# Initialize the tokenizer and model\n",
        "tokenizer = AlbertTokenizer.from_pretrained('albert-base-v2')\n",
        "model = ModifiedAlbertForSequenceClassification.from_pretrained('albert-base-v2', num_labels=3)\n",
        "\n",
        "# Encode the tweets and the labels\n",
        "encodings = tokenizer(list(df['tweet']), truncation=True, padding=True)\n",
        "labels = list(df['class'])\n",
        "\n",
        "# Create a dataset object\n",
        "class TweetDataset(Dataset):\n",
        "    def __init__(self, encodings, labels):\n",
        "        self.encodings = encodings\n",
        "        self.labels = labels\n",
        "\n",
        "    def __getitem__(self, idx):\n",
        "        item = {key: torch.tensor(val[idx]) for key, val in self.encodings.items()}\n",
        "        item['labels'] = torch.tensor(self.labels[idx])\n",
        "        return item\n",
        "\n",
        "    def __len__(self):\n",
        "        return len(self.labels)\n",
        "\n",
        "# Create a training, validation, and test split\n",
        "sss = StratifiedShuffleSplit(n_splits=1, test_size=0.3, random_state=42)\n",
        "train_indices, test_indices = next(sss.split(df['tweet'], df['class']))\n",
        "train_df, test_df = df.iloc[train_indices], df.iloc[test_indices]\n",
        "\n",
        "sss = StratifiedShuffleSplit(n_splits=1, test_size=0.5, random_state=42)\n",
        "val_indices, test_indices = next(sss.split(test_df['tweet'], test_df['class']))\n",
        "val_df, test_df = test_df.iloc[val_indices], test_df.iloc[test_indices]\n",
        "\n",
        "# Encode the tweets and the labels for train, val and test sets\n",
        "train_encodings = tokenizer(list(train_df['tweet']), truncation=True, padding=True)\n",
        "train_labels = list(train_df['class'])\n",
        "train_dataset = TweetDataset(train_encodings, train_labels)\n",
        "\n",
        "val_encodings = tokenizer(list(val_df['tweet']), truncation=True, padding=True)\n",
        "val_labels = list(val_df['class'])\n",
        "val_dataset = TweetDataset(val_encodings, val_labels)\n",
        "\n",
        "test_encodings = tokenizer(list(test_df['tweet']), truncation=True, padding=True)\n",
        "test_labels = list(test_df['class'])\n",
        "test_dataset = TweetDataset(test_encodings, test_labels)"
      ],
      "metadata": {
        "colab": {
          "base_uri": "https://localhost:8080/"
        },
        "id": "koqC4VqS8rJv",
        "outputId": "b798d659-8a46-4e34-8459-c839754a2899"
      },
      "execution_count": null,
      "outputs": [
        {
          "output_type": "stream",
          "name": "stderr",
          "text": [
            "Some weights of the model checkpoint at albert-base-v2 were not used when initializing ModifiedAlbertForSequenceClassification: ['predictions.LayerNorm.bias', 'predictions.decoder.bias', 'predictions.dense.weight', 'predictions.bias', 'predictions.dense.bias', 'predictions.LayerNorm.weight', 'predictions.decoder.weight']\n",
            "- This IS expected if you are initializing ModifiedAlbertForSequenceClassification from the checkpoint of a model trained on another task or with another architecture (e.g. initializing a BertForSequenceClassification model from a BertForPreTraining model).\n",
            "- This IS NOT expected if you are initializing ModifiedAlbertForSequenceClassification from the checkpoint of a model that you expect to be exactly identical (initializing a BertForSequenceClassification model from a BertForSequenceClassification model).\n",
            "Some weights of ModifiedAlbertForSequenceClassification were not initialized from the model checkpoint at albert-base-v2 and are newly initialized: ['classifier.bias', 'pooler.bias', 'classifier.weight', 'pooler.weight', 'ffnn_layers.0.weight', 'ffnn_layers.0.bias']\n",
            "You should probably TRAIN this model on a down-stream task to be able to use it for predictions and inference.\n"
          ]
        }
      ]
    },
    {
      "cell_type": "code",
      "source": [
        "device = torch.device('cuda') if torch.cuda.is_available() else torch.device('cpu')\n",
        "from sklearn.model_selection import StratifiedShuffleSplit\n",
        "# Load the dataset\n",
        "#df = data_df\n",
        "\n",
        "# Initialize the tokenizer and model\n",
        "tokenizer = AlbertTokenizer.from_pretrained('albert-base-v2')\n",
        "model = ModifiedAlbertForSequenceClassification.from_pretrained('albert-base-v2', num_labels=3)\n",
        "\n",
        "# Encode the tweets and the labels\n",
        "encodings = tokenizer(list(hate_speech['tweet']), truncation=True, padding=True)\n",
        "labels = list(hate_speech['class'])\n",
        "\n",
        "# Create a dataset object\n",
        "class TweetDataset(Dataset):\n",
        "    def __init__(self, encodings, labels):\n",
        "        self.encodings = encodings\n",
        "        self.labels = labels\n",
        "\n",
        "    def __getitem__(self, idx):\n",
        "        item = {key: torch.tensor(val[idx]) for key, val in self.encodings.items()}\n",
        "        item['labels'] = torch.tensor(self.labels[idx])\n",
        "        return item\n",
        "\n",
        "    def __len__(self):\n",
        "        return len(self.labels)\n",
        "\n",
        "\n",
        "test_encodings = tokenizer(list(hate_speech['tweet']), truncation=True, padding=True)\n",
        "test_labels = list(hate_speech['class'])\n",
        "test_dataset = TweetDataset(test_encodings, test_labels)"
      ],
      "metadata": {
        "id": "DC2mPMHYRfhI",
        "colab": {
          "base_uri": "https://localhost:8080/"
        },
        "outputId": "52297a0c-8acd-4954-ccf2-699e269e5edc"
      },
      "execution_count": null,
      "outputs": [
        {
          "output_type": "stream",
          "name": "stderr",
          "text": [
            "Some weights of the model checkpoint at albert-base-v2 were not used when initializing ModifiedAlbertForSequenceClassification: ['predictions.LayerNorm.bias', 'predictions.LayerNorm.weight', 'predictions.decoder.bias', 'predictions.bias', 'predictions.decoder.weight', 'predictions.dense.bias', 'predictions.dense.weight']\n",
            "- This IS expected if you are initializing ModifiedAlbertForSequenceClassification from the checkpoint of a model trained on another task or with another architecture (e.g. initializing a BertForSequenceClassification model from a BertForPreTraining model).\n",
            "- This IS NOT expected if you are initializing ModifiedAlbertForSequenceClassification from the checkpoint of a model that you expect to be exactly identical (initializing a BertForSequenceClassification model from a BertForSequenceClassification model).\n",
            "Some weights of ModifiedAlbertForSequenceClassification were not initialized from the model checkpoint at albert-base-v2 and are newly initialized: ['pooler.bias', 'pooler.weight', 'ffnn_layers.0.weight', 'classifier.weight', 'classifier.bias', 'ffnn_layers.0.bias']\n",
            "You should probably TRAIN this model on a down-stream task to be able to use it for predictions and inference.\n"
          ]
        }
      ]
    },
    {
      "cell_type": "markdown",
      "source": [
        "# Training the Model"
      ],
      "metadata": {
        "id": "ItELn1CXvVGb"
      }
    },
    {
      "cell_type": "code",
      "source": [
        "from sklearn.metrics import precision_recall_fscore_support\n",
        "\n",
        "# Create the optimizer and scheduler\n",
        "optimizer = AdamW(model.parameters(), lr=learning_rate, weight_decay=weight_decay)\n",
        "total_steps = len(train_dataset) * num_epochs // batch_size // gradient_accumulation_steps\n",
        "scheduler = torch.optim.lr_scheduler.OneCycleLR(optimizer, max_lr=learning_rate, steps_per_epoch=len(train_dataset)//batch_size, epochs=num_epochs)\n",
        "\n",
        "# Create a function to compute loss and accuracy\n",
        "def compute_loss(logits, labels):\n",
        "    return torch.nn.functional.cross_entropy(logits, labels)\n",
        "\n",
        "def compute_accuracy(logits, labels):\n",
        "    preds = torch.argmax(torch.from_numpy(logits), axis=1)\n",
        "    labels = torch.from_numpy(labels)\n",
        "    return (preds == labels).float().mean().item()\n",
        "\n",
        "\n",
        "def save_best_model(model, output_dir, best_val_loss):\n",
        "    if not os.path.exists(output_dir):\n",
        "        os.makedirs(output_dir)\n",
        "    model.save_pretrained(output_dir)\n",
        "    shutil.copyfile(os.path.join(output_dir, \"config.json\"), os.path.join(output_dir, \"model_config.json\"))\n",
        "    with open(os.path.join(output_dir, \"best_val_loss.txt\"), \"w\") as f:\n",
        "        f.write(str(best_val_loss))\n",
        "\n",
        "best_val_loss = float('inf')\n",
        "train_loader = torch.utils.data.DataLoader(train_dataset, batch_size= batch_size, shuffle=True)\n",
        "\n",
        "val_loader = torch.utils.data.DataLoader(val_dataset, batch_size= batch_size, shuffle=True)\n",
        "scaler = GradScaler()\n",
        "best_model_dir = '/content/drive/MyDrive/albert_models'\n",
        "for epoch in range(num_epochs):\n",
        "    # Train\n",
        "    train_losses = []\n",
        "    train_accuracies = []\n",
        "    train_true_labels = []\n",
        "    train_predicted_labels = []\n",
        "    for step, batch in enumerate(train_loader):\n",
        "        model.train()\n",
        "        optimizer.zero_grad()\n",
        "        input_ids = batch['input_ids'].to(device)\n",
        "        attention_mask = batch['attention_mask'].to(device)\n",
        "        labels = batch['labels'].to(device)\n",
        "        \n",
        "        with autocast():\n",
        "            outputs = model(input_ids, attention_mask=attention_mask, labels=labels)\n",
        "            loss = outputs[0]\n",
        "\n",
        "        # Backward pass and gradient accumulation\n",
        "        scaler.scale(loss / gradient_accumulation_steps).backward()\n",
        "        if (step + 1) % gradient_accumulation_steps == 0:\n",
        "            scaler.step(optimizer)\n",
        "            scaler.update()\n",
        "            optimizer.zero_grad()\n",
        "\n",
        "        predicted_labels = torch.argmax(outputs[1], dim=1).cpu().numpy()\n",
        "        true_labels = labels.detach().cpu().numpy()\n",
        "        train_losses.append(loss.item())\n",
        "        train_accuracies.append(compute_accuracy(outputs[1].detach().cpu().numpy(), labels.detach().cpu().numpy()))\n",
        "        train_true_labels.extend(true_labels)\n",
        "        train_predicted_labels.extend(predicted_labels)\n",
        "        \n",
        "        train_loss = np.mean(train_losses)\n",
        "        train_accuracy = np.mean(train_accuracies)\n",
        "        wandb.log({\"Train Loss\": train_loss, \"Train Accuracy\": train_accuracy})\n",
        "    \n",
        "    # Compute the precision, recall, and F1 score for the training set\n",
        "    train_precision, train_recall, train_f1, _ = precision_recall_fscore_support(train_true_labels, train_predicted_labels, average=None)\n",
        "    wandb.log({\"Train Precision - Class 0\": train_precision[0], \"Train Precision - Class 1\": train_precision[1], \"Train Precision - Class 2\": train_precision[2]})\n",
        "    wandb.log({\"Train Recall - Class 0\": train_recall[0], \"Train Recall - Class 1\": train_recall[1], \"Train Recall - Class 2\": train_recall[2]})\n",
        "    wandb.log({\"Train F1 Score - Class 0\": train_f1[0], \"Train F1 Score - Class 1\": train_f1[1], \"Train F1 Score - Class 2\": train_f1[2]})\n",
        "    \n",
        "    # Compute the micro-average precision, recall, and F1 score for the training set\n",
        "    train_micro_precision, train_micro_recall, train_micro_f1, _ = precision_recall_fscore_support(train_true_labels, train_predicted_labels, average='weighted')\n",
        "    wandb.log({\"Train Precision\": train_micro_precision, \"Train Recall\": train_micro_recall, \"Train Score\": train_micro_f1})\n",
        "\n",
        "    # Evaluate on the validation set\n",
        "    val_losses = []\n",
        "    val_accuracies = []\n",
        "    val_true_labels = []\n",
        "    val_predicted_labels = []\n",
        "    model.eval()\n",
        "    with torch.no_grad():\n",
        "        for batch in val_loader:\n",
        "            input_ids = batch['input_ids'].to(device)\n",
        "            attention_mask = batch['attention_mask'].to(device)\n",
        "            labels = batch['labels'].to(device)\n",
        "            outputs = model(input_ids, attention_mask=attention_mask, labels=labels)\n",
        "            loss = outputs[0]\n",
        "            predicted_labels = torch.argmax(outputs[1], dim=1).cpu().numpy()\n",
        "            true_labels = labels.detach().cpu().numpy()\n",
        "            val_losses.append(loss.item())\n",
        "            val_accuracies.append(compute_accuracy(outputs[1].detach().cpu().numpy(), labels.detach().cpu().numpy()))\n",
        "            val_true_labels.extend(true_labels)\n",
        "            val_predicted_labels.extend(predicted_labels)\n",
        "                # Compute the precision, recall, and F1 score for the training set\n",
        "    # Compute the precision, recall, and F1 score for the validation set\n",
        "    val_precision, val_recall, val_f1, _ = precision_recall_fscore_support(val_true_labels, val_predicted_labels, average=None)\n",
        "    wandb.log({\"Val Precision - Class 0\": val_precision[0], \"Val Precision - Class 1\": val_precision[1], \"Val Precision - Class 2\": val_precision[2]})\n",
        "    wandb.log({\"Val Recall - Class 0\": val_recall[0], \"Val Recall - Class 1\": val_recall[1], \"Val Recall - Class 2\": val_recall[2]})\n",
        "    wandb.log({\"Val F1 Score - Class 0\": val_f1[0], \"Val F1 Score - Class 1\": val_f1[1], \"Val F1 Score - Class 2\": val_f1[2]})\n",
        "\n",
        "    # Compute the micro-average precision, recall, and F1 score for the validation set\n",
        "    val_precision_micro, val_recall_micro, val_f1_micro, _ = precision_recall_fscore_support(val_true_labels, val_predicted_labels, average='weighted')\n",
        "    wandb.log({\"Val Precision\": val_precision_micro, \"Val Recall\": val_recall_micro, \"Val F1 Score\": val_f1_micro})\n",
        "\n",
        "\n",
        "    # Compute the average losses and accuracies\n",
        "    val_loss = np.mean(val_losses)\n",
        "    val_accuracy = np.mean(val_accuracies)\n",
        "    wandb.log({\"Validation Loss\": val_loss, \"Validation Accuracy\": val_accuracy})\n",
        "    # Print the training and validation losses and accuracies\n",
        "    print(f\"Epoch {epoch + 1}/{num_epochs}:\")\n",
        "    print(f\"  Train loss: {train_loss:.3f}, Train accuracy: {train_accuracy:.3f}\")\n",
        "    print(f\"  Val loss: {val_loss:.3f}, Val accuracy: {val_accuracy:.3f}\")\n",
        "    # Save the best model\n",
        "    if val_loss < best_val_loss:\n",
        "        best_val_loss = val_loss\n",
        "        save_best_model(model, output_dir=best_model_dir, best_val_loss=best_val_loss)\n",
        "        tokenizer.save_pretrained(best_model_dir)\n",
        "\n",
        "test_loader = torch.utils.data.DataLoader(test_dataset, batch_size=batch_size, shuffle=False)\n",
        "\n",
        "# Load the best model and evaluate on the test set\n",
        "\n",
        "model = ModifiedAlbertForSequenceClassification.from_pretrained(best_model_dir)\n",
        "model.to(device)\n",
        "\n",
        "test_losses = []\n",
        "test_accuracies = []\n",
        "predicted_labels = []\n",
        "true_labels = []\n",
        "model.eval()\n",
        "with torch.no_grad():\n",
        "    for batch in test_loader:\n",
        "        input_ids = batch['input_ids'].to(device)\n",
        "        attention_mask = batch['attention_mask'].to(device)\n",
        "        labels = batch['labels'].to(device)\n",
        "        outputs = model(input_ids, attention_mask=attention_mask, labels=labels)\n",
        "        loss = outputs[0]\n",
        "        predicted_labels.extend(torch.argmax(outputs[1], dim=1).cpu().numpy())\n",
        "        true_labels.extend(labels.cpu().numpy())\n",
        "        test_losses.append(loss.item())\n",
        "        test_accuracies.append(compute_accuracy(outputs[1].detach().cpu().numpy(), labels.detach().cpu().numpy()))\n",
        "\n",
        "# Compute the average test loss and accuracy\n",
        "test_loss = np.mean(test_losses)\n",
        "test_accuracy = np.mean(test_accuracies)\n",
        "\n",
        "# Compute the precision, recall, and F1 score for the validation set\n",
        "test_precision, test_recall, test_f1, _ = precision_recall_fscore_support(true_labels, predicted_labels, average=None)\n",
        "wandb.log({\"Test Precision - Class 0\": test_precision[0], \"Test Precision - Class 1\": test_precision[1], \"Test Precision - Class 2\": test_precision[2]})\n",
        "wandb.log({\"Test Recall - Class 0\": test_recall[0], \"Test Recall - Class 1\": test_recall[1], \"Test Recall - Class 2\": test_recall[2]})\n",
        "wandb.log({\"Test F1 Score - Class 0\": test_f1[0], \"Test F1 Score - Class 1\": test_f1[1], \"Test F1 Score - Class 2\": test_f1[2]})\n",
        "\n",
        "\n",
        "# Compute precision, recall, and F1 score\n",
        "precision, recall, f1, support = precision_recall_fscore_support(true_labels, predicted_labels, average='weighted')\n",
        "\n",
        "# Log the metrics to wandb\n",
        "wandb.log({\"Test Loss\": test_loss, \"Test Accuracy\": test_accuracy, \"Test Precision\": precision, \"Test Recall\": recall, \"Test F1 Score\": f1})\n",
        "\n",
        "\n",
        "# Print the test loss and accuracy\n",
        "print(f\"Test loss: {test_loss:.3f}, Test accuracy: {test_accuracy:.3f}\")\n",
        "\n",
        "# Compute confusion matrix\n",
        "conf_matrix = confusion_matrix(true_labels, predicted_labels, labels=[0, 1, 2])\n",
        "class_names = ['Hate Speech', 'Offensive', 'Neither']\n",
        "fig, ax = plt.subplots(figsize=(6, 6))\n",
        "sns.heatmap(conf_matrix, annot=True, fmt='d', xticklabels=class_names, yticklabels=class_names)\n",
        "ax.set_ylabel('Actual')\n",
        "ax.set_xlabel('Predicted')\n",
        "ax.set_title('Confusion Matrix')\n",
        "plt.show()"
      ],
      "metadata": {
        "colab": {
          "base_uri": "https://localhost:8080/",
          "height": 598
        },
        "id": "Y8okmj02o3QZ",
        "outputId": "3b374410-4a88-41cf-c8cf-8d257e37a3cb"
      },
      "execution_count": null,
      "outputs": [
        {
          "output_type": "stream",
          "name": "stderr",
          "text": [
            "/usr/local/lib/python3.8/dist-packages/transformers/optimization.py:306: FutureWarning: This implementation of AdamW is deprecated and will be removed in a future version. Use the PyTorch implementation torch.optim.AdamW instead, or set `no_deprecation_warning=True` to disable this warning\n",
            "  warnings.warn(\n",
            "/usr/local/lib/python3.8/dist-packages/torch/cuda/amp/grad_scaler.py:118: UserWarning: torch.cuda.amp.GradScaler is enabled, but CUDA is not available.  Disabling.\n",
            "  warnings.warn(\"torch.cuda.amp.GradScaler is enabled, but CUDA is not available.  Disabling.\")\n",
            "/usr/local/lib/python3.8/dist-packages/torch/amp/autocast_mode.py:202: UserWarning: User provided device_type of 'cuda', but CUDA is not available. Disabling\n",
            "  warnings.warn('User provided device_type of \\'cuda\\', but CUDA is not available. Disabling')\n"
          ]
        },
        {
          "output_type": "stream",
          "name": "stdout",
          "text": [
            "Epoch 1/1:\n",
            "  Train loss: 1.099, Train accuracy: 0.293\n",
            "  Val loss: 1.100, Val accuracy: 0.233\n",
            "Test loss: 1.099, Test accuracy: 0.245\n"
          ]
        },
        {
          "output_type": "display_data",
          "data": {
            "text/plain": [
              "<Figure size 432x432 with 2 Axes>"
            ],
            "image/png": "[encoded data removed]"
          },
          "metadata": {
            "needs_background": "light"
          }
        }
      ]
    }
  ],
  "metadata": {
    "colab": {
      "provenance": []
    },
    "gpuClass": "standard",
    "kernelspec": {
      "display_name": "Python 3",
      "name": "python3"
    },
    "language_info": {
      "name": "python"
    },
    "widgets": {
      "application/vnd.jupyter.widget-state+json": {
        "c299d842cadc47f9b43c80e0f7834085": {
          "model_module": "@jupyter-widgets/controls",
          "model_name": "HBoxModel",
          "model_module_version": "1.5.0",
          "state": {
            "_dom_classes": [],
            "_model_module": "@jupyter-widgets/controls",
            "_model_module_version": "1.5.0",
            "_model_name": "HBoxModel",
            "_view_count": null,
            "_view_module": "@jupyter-widgets/controls",
            "_view_module_version": "1.5.0",
            "_view_name": "HBoxView",
            "box_style": "",
            "children": [
              "IPY_MODEL_2194041b9cfb4d21899da527245a8104",
              "IPY_MODEL_9bfae9fa48ee4560abb671f3c4906c6b",
              "IPY_MODEL_6110564306eb4a65b1b5ac64b25ffc99"
            ],
            "layout": "IPY_MODEL_6426e6c24b5d4e15bf559fb3a91be984"
          }
        },
        "2194041b9cfb4d21899da527245a8104": {
          "model_module": "@jupyter-widgets/controls",
          "model_name": "HTMLModel",
          "model_module_version": "1.5.0",
          "state": {
            "_dom_classes": [],
            "_model_module": "@jupyter-widgets/controls",
            "_model_module_version": "1.5.0",
            "_model_name": "HTMLModel",
            "_view_count": null,
            "_view_module": "@jupyter-widgets/controls",
            "_view_module_version": "1.5.0",
            "_view_name": "HTMLView",
            "description": "",
            "description_tooltip": null,
            "layout": "IPY_MODEL_48d52e7e343b425fae5cbec450814fbc",
            "placeholder": "​",
            "style": "IPY_MODEL_6b0ff3d9cb76461e873b23da3fd15d5c",
            "value": "Downloading (…)ve/main/spiece.model: 100%"
          }
        },
        "9bfae9fa48ee4560abb671f3c4906c6b": {
          "model_module": "@jupyter-widgets/controls",
          "model_name": "FloatProgressModel",
          "model_module_version": "1.5.0",
          "state": {
            "_dom_classes": [],
            "_model_module": "@jupyter-widgets/controls",
            "_model_module_version": "1.5.0",
            "_model_name": "FloatProgressModel",
            "_view_count": null,
            "_view_module": "@jupyter-widgets/controls",
            "_view_module_version": "1.5.0",
            "_view_name": "ProgressView",
            "bar_style": "success",
            "description": "",
            "description_tooltip": null,
            "layout": "IPY_MODEL_ebec3c1c902e492e887bb0faba31b33a",
            "max": 760289,
            "min": 0,
            "orientation": "horizontal",
            "style": "IPY_MODEL_0843d2cfce5749199d739e14b8410efa",
            "value": 760289
          }
        },
        "6110564306eb4a65b1b5ac64b25ffc99": {
          "model_module": "@jupyter-widgets/controls",
          "model_name": "HTMLModel",
          "model_module_version": "1.5.0",
          "state": {
            "_dom_classes": [],
            "_model_module": "@jupyter-widgets/controls",
            "_model_module_version": "1.5.0",
            "_model_name": "HTMLModel",
            "_view_count": null,
            "_view_module": "@jupyter-widgets/controls",
            "_view_module_version": "1.5.0",
            "_view_name": "HTMLView",
            "description": "",
            "description_tooltip": null,
            "layout": "IPY_MODEL_cd392ccac08340979906eea8449e1f31",
            "placeholder": "​",
            "style": "IPY_MODEL_b2da71b7f077431092d0d968ef12b03e",
            "value": " 760k/760k [00:00&lt;00:00, 3.98MB/s]"
          }
        },
        "6426e6c24b5d4e15bf559fb3a91be984": {
          "model_module": "@jupyter-widgets/base",
          "model_name": "LayoutModel",
          "model_module_version": "1.2.0",
          "state": {
            "_model_module": "@jupyter-widgets/base",
            "_model_module_version": "1.2.0",
            "_model_name": "LayoutModel",
            "_view_count": null,
            "_view_module": "@jupyter-widgets/base",
            "_view_module_version": "1.2.0",
            "_view_name": "LayoutView",
            "align_content": null,
            "align_items": null,
            "align_self": null,
            "border": null,
            "bottom": null,
            "display": null,
            "flex": null,
            "flex_flow": null,
            "grid_area": null,
            "grid_auto_columns": null,
            "grid_auto_flow": null,
            "grid_auto_rows": null,
            "grid_column": null,
            "grid_gap": null,
            "grid_row": null,
            "grid_template_areas": null,
            "grid_template_columns": null,
            "grid_template_rows": null,
            "height": null,
            "justify_content": null,
            "justify_items": null,
            "left": null,
            "margin": null,
            "max_height": null,
            "max_width": null,
            "min_height": null,
            "min_width": null,
            "object_fit": null,
            "object_position": null,
            "order": null,
            "overflow": null,
            "overflow_x": null,
            "overflow_y": null,
            "padding": null,
            "right": null,
            "top": null,
            "visibility": null,
            "width": null
          }
        },
        "48d52e7e343b425fae5cbec450814fbc": {
          "model_module": "@jupyter-widgets/base",
          "model_name": "LayoutModel",
          "model_module_version": "1.2.0",
          "state": {
            "_model_module": "@jupyter-widgets/base",
            "_model_module_version": "1.2.0",
            "_model_name": "LayoutModel",
            "_view_count": null,
            "_view_module": "@jupyter-widgets/base",
            "_view_module_version": "1.2.0",
            "_view_name": "LayoutView",
            "align_content": null,
            "align_items": null,
            "align_self": null,
            "border": null,
            "bottom": null,
            "display": null,
            "flex": null,
            "flex_flow": null,
            "grid_area": null,
            "grid_auto_columns": null,
            "grid_auto_flow": null,
            "grid_auto_rows": null,
            "grid_column": null,
            "grid_gap": null,
            "grid_row": null,
            "grid_template_areas": null,
            "grid_template_columns": null,
            "grid_template_rows": null,
            "height": null,
            "justify_content": null,
            "justify_items": null,
            "left": null,
            "margin": null,
            "max_height": null,
            "max_width": null,
            "min_height": null,
            "min_width": null,
            "object_fit": null,
            "object_position": null,
            "order": null,
            "overflow": null,
            "overflow_x": null,
            "overflow_y": null,
            "padding": null,
            "right": null,
            "top": null,
            "visibility": null,
            "width": null
          }
        },
        "6b0ff3d9cb76461e873b23da3fd15d5c": {
          "model_module": "@jupyter-widgets/controls",
          "model_name": "DescriptionStyleModel",
          "model_module_version": "1.5.0",
          "state": {
            "_model_module": "@jupyter-widgets/controls",
            "_model_module_version": "1.5.0",
            "_model_name": "DescriptionStyleModel",
            "_view_count": null,
            "_view_module": "@jupyter-widgets/base",
            "_view_module_version": "1.2.0",
            "_view_name": "StyleView",
            "description_width": ""
          }
        },
        "ebec3c1c902e492e887bb0faba31b33a": {
          "model_module": "@jupyter-widgets/base",
          "model_name": "LayoutModel",
          "model_module_version": "1.2.0",
          "state": {
            "_model_module": "@jupyter-widgets/base",
            "_model_module_version": "1.2.0",
            "_model_name": "LayoutModel",
            "_view_count": null,
            "_view_module": "@jupyter-widgets/base",
            "_view_module_version": "1.2.0",
            "_view_name": "LayoutView",
            "align_content": null,
            "align_items": null,
            "align_self": null,
            "border": null,
            "bottom": null,
            "display": null,
            "flex": null,
            "flex_flow": null,
            "grid_area": null,
            "grid_auto_columns": null,
            "grid_auto_flow": null,
            "grid_auto_rows": null,
            "grid_column": null,
            "grid_gap": null,
            "grid_row": null,
            "grid_template_areas": null,
            "grid_template_columns": null,
            "grid_template_rows": null,
            "height": null,
            "justify_content": null,
            "justify_items": null,
            "left": null,
            "margin": null,
            "max_height": null,
            "max_width": null,
            "min_height": null,
            "min_width": null,
            "object_fit": null,
            "object_position": null,
            "order": null,
            "overflow": null,
            "overflow_x": null,
            "overflow_y": null,
            "padding": null,
            "right": null,
            "top": null,
            "visibility": null,
            "width": null
          }
        },
        "0843d2cfce5749199d739e14b8410efa": {
          "model_module": "@jupyter-widgets/controls",
          "model_name": "ProgressStyleModel",
          "model_module_version": "1.5.0",
          "state": {
            "_model_module": "@jupyter-widgets/controls",
            "_model_module_version": "1.5.0",
            "_model_name": "ProgressStyleModel",
            "_view_count": null,
            "_view_module": "@jupyter-widgets/base",
            "_view_module_version": "1.2.0",
            "_view_name": "StyleView",
            "bar_color": null,
            "description_width": ""
          }
        },
        "cd392ccac08340979906eea8449e1f31": {
          "model_module": "@jupyter-widgets/base",
          "model_name": "LayoutModel",
          "model_module_version": "1.2.0",
          "state": {
            "_model_module": "@jupyter-widgets/base",
            "_model_module_version": "1.2.0",
            "_model_name": "LayoutModel",
            "_view_count": null,
            "_view_module": "@jupyter-widgets/base",
            "_view_module_version": "1.2.0",
            "_view_name": "LayoutView",
            "align_content": null,
            "align_items": null,
            "align_self": null,
            "border": null,
            "bottom": null,
            "display": null,
            "flex": null,
            "flex_flow": null,
            "grid_area": null,
            "grid_auto_columns": null,
            "grid_auto_flow": null,
            "grid_auto_rows": null,
            "grid_column": null,
            "grid_gap": null,
            "grid_row": null,
            "grid_template_areas": null,
            "grid_template_columns": null,
            "grid_template_rows": null,
            "height": null,
            "justify_content": null,
            "justify_items": null,
            "left": null,
            "margin": null,
            "max_height": null,
            "max_width": null,
            "min_height": null,
            "min_width": null,
            "object_fit": null,
            "object_position": null,
            "order": null,
            "overflow": null,
            "overflow_x": null,
            "overflow_y": null,
            "padding": null,
            "right": null,
            "top": null,
            "visibility": null,
            "width": null
          }
        },
        "b2da71b7f077431092d0d968ef12b03e": {
          "model_module": "@jupyter-widgets/controls",
          "model_name": "DescriptionStyleModel",
          "model_module_version": "1.5.0",
          "state": {
            "_model_module": "@jupyter-widgets/controls",
            "_model_module_version": "1.5.0",
            "_model_name": "DescriptionStyleModel",
            "_view_count": null,
            "_view_module": "@jupyter-widgets/base",
            "_view_module_version": "1.2.0",
            "_view_name": "StyleView",
            "description_width": ""
          }
        },
        "a7eaa45c7ee54dbe85f781a578f520ea": {
          "model_module": "@jupyter-widgets/controls",
          "model_name": "HBoxModel",
          "model_module_version": "1.5.0",
          "state": {
            "_dom_classes": [],
            "_model_module": "@jupyter-widgets/controls",
            "_model_module_version": "1.5.0",
            "_model_name": "HBoxModel",
            "_view_count": null,
            "_view_module": "@jupyter-widgets/controls",
            "_view_module_version": "1.5.0",
            "_view_name": "HBoxView",
            "box_style": "",
            "children": [
              "IPY_MODEL_04e1269a87484f8285d8378373f6e6ad",
              "IPY_MODEL_be6410725d4f4d53986053cd610f9633",
              "IPY_MODEL_5f993a37262149de82ab5ebf39f0ed14"
            ],
            "layout": "IPY_MODEL_00791a5e7dd84abcb453154ffee50c52"
          }
        },
        "04e1269a87484f8285d8378373f6e6ad": {
          "model_module": "@jupyter-widgets/controls",
          "model_name": "HTMLModel",
          "model_module_version": "1.5.0",
          "state": {
            "_dom_classes": [],
            "_model_module": "@jupyter-widgets/controls",
            "_model_module_version": "1.5.0",
            "_model_name": "HTMLModel",
            "_view_count": null,
            "_view_module": "@jupyter-widgets/controls",
            "_view_module_version": "1.5.0",
            "_view_name": "HTMLView",
            "description": "",
            "description_tooltip": null,
            "layout": "IPY_MODEL_e0b13623ffb5494982ac92f85b31d651",
            "placeholder": "​",
            "style": "IPY_MODEL_010ebb02ae1f410095921059bba2ef60",
            "value": "Downloading (…)lve/main/config.json: 100%"
          }
        },
        "be6410725d4f4d53986053cd610f9633": {
          "model_module": "@jupyter-widgets/controls",
          "model_name": "FloatProgressModel",
          "model_module_version": "1.5.0",
          "state": {
            "_dom_classes": [],
            "_model_module": "@jupyter-widgets/controls",
            "_model_module_version": "1.5.0",
            "_model_name": "FloatProgressModel",
            "_view_count": null,
            "_view_module": "@jupyter-widgets/controls",
            "_view_module_version": "1.5.0",
            "_view_name": "ProgressView",
            "bar_style": "success",
            "description": "",
            "description_tooltip": null,
            "layout": "IPY_MODEL_83db61e48fa144429207282c176531ab",
            "max": 684,
            "min": 0,
            "orientation": "horizontal",
            "style": "IPY_MODEL_c20cf83edeae4f4cbd4b64cb2de59a7e",
            "value": 684
          }
        },
        "5f993a37262149de82ab5ebf39f0ed14": {
          "model_module": "@jupyter-widgets/controls",
          "model_name": "HTMLModel",
          "model_module_version": "1.5.0",
          "state": {
            "_dom_classes": [],
            "_model_module": "@jupyter-widgets/controls",
            "_model_module_version": "1.5.0",
            "_model_name": "HTMLModel",
            "_view_count": null,
            "_view_module": "@jupyter-widgets/controls",
            "_view_module_version": "1.5.0",
            "_view_name": "HTMLView",
            "description": "",
            "description_tooltip": null,
            "layout": "IPY_MODEL_499909fe37c94774a2b3f7fa9eaaf76e",
            "placeholder": "​",
            "style": "IPY_MODEL_1d498b13af344ce78136f66050da1c4d",
            "value": " 684/684 [00:00&lt;00:00, 14.9kB/s]"
          }
        },
        "00791a5e7dd84abcb453154ffee50c52": {
          "model_module": "@jupyter-widgets/base",
          "model_name": "LayoutModel",
          "model_module_version": "1.2.0",
          "state": {
            "_model_module": "@jupyter-widgets/base",
            "_model_module_version": "1.2.0",
            "_model_name": "LayoutModel",
            "_view_count": null,
            "_view_module": "@jupyter-widgets/base",
            "_view_module_version": "1.2.0",
            "_view_name": "LayoutView",
            "align_content": null,
            "align_items": null,
            "align_self": null,
            "border": null,
            "bottom": null,
            "display": null,
            "flex": null,
            "flex_flow": null,
            "grid_area": null,
            "grid_auto_columns": null,
            "grid_auto_flow": null,
            "grid_auto_rows": null,
            "grid_column": null,
            "grid_gap": null,
            "grid_row": null,
            "grid_template_areas": null,
            "grid_template_columns": null,
            "grid_template_rows": null,
            "height": null,
            "justify_content": null,
            "justify_items": null,
            "left": null,
            "margin": null,
            "max_height": null,
            "max_width": null,
            "min_height": null,
            "min_width": null,
            "object_fit": null,
            "object_position": null,
            "order": null,
            "overflow": null,
            "overflow_x": null,
            "overflow_y": null,
            "padding": null,
            "right": null,
            "top": null,
            "visibility": null,
            "width": null
          }
        },
        "e0b13623ffb5494982ac92f85b31d651": {
          "model_module": "@jupyter-widgets/base",
          "model_name": "LayoutModel",
          "model_module_version": "1.2.0",
          "state": {
            "_model_module": "@jupyter-widgets/base",
            "_model_module_version": "1.2.0",
            "_model_name": "LayoutModel",
            "_view_count": null,
            "_view_module": "@jupyter-widgets/base",
            "_view_module_version": "1.2.0",
            "_view_name": "LayoutView",
            "align_content": null,
            "align_items": null,
            "align_self": null,
            "border": null,
            "bottom": null,
            "display": null,
            "flex": null,
            "flex_flow": null,
            "grid_area": null,
            "grid_auto_columns": null,
            "grid_auto_flow": null,
            "grid_auto_rows": null,
            "grid_column": null,
            "grid_gap": null,
            "grid_row": null,
            "grid_template_areas": null,
            "grid_template_columns": null,
            "grid_template_rows": null,
            "height": null,
            "justify_content": null,
            "justify_items": null,
            "left": null,
            "margin": null,
            "max_height": null,
            "max_width": null,
            "min_height": null,
            "min_width": null,
            "object_fit": null,
            "object_position": null,
            "order": null,
            "overflow": null,
            "overflow_x": null,
            "overflow_y": null,
            "padding": null,
            "right": null,
            "top": null,
            "visibility": null,
            "width": null
          }
        },
        "010ebb02ae1f410095921059bba2ef60": {
          "model_module": "@jupyter-widgets/controls",
          "model_name": "DescriptionStyleModel",
          "model_module_version": "1.5.0",
          "state": {
            "_model_module": "@jupyter-widgets/controls",
            "_model_module_version": "1.5.0",
            "_model_name": "DescriptionStyleModel",
            "_view_count": null,
            "_view_module": "@jupyter-widgets/base",
            "_view_module_version": "1.2.0",
            "_view_name": "StyleView",
            "description_width": ""
          }
        },
        "83db61e48fa144429207282c176531ab": {
          "model_module": "@jupyter-widgets/base",
          "model_name": "LayoutModel",
          "model_module_version": "1.2.0",
          "state": {
            "_model_module": "@jupyter-widgets/base",
            "_model_module_version": "1.2.0",
            "_model_name": "LayoutModel",
            "_view_count": null,
            "_view_module": "@jupyter-widgets/base",
            "_view_module_version": "1.2.0",
            "_view_name": "LayoutView",
            "align_content": null,
            "align_items": null,
            "align_self": null,
            "border": null,
            "bottom": null,
            "display": null,
            "flex": null,
            "flex_flow": null,
            "grid_area": null,
            "grid_auto_columns": null,
            "grid_auto_flow": null,
            "grid_auto_rows": null,
            "grid_column": null,
            "grid_gap": null,
            "grid_row": null,
            "grid_template_areas": null,
            "grid_template_columns": null,
            "grid_template_rows": null,
            "height": null,
            "justify_content": null,
            "justify_items": null,
            "left": null,
            "margin": null,
            "max_height": null,
            "max_width": null,
            "min_height": null,
            "min_width": null,
            "object_fit": null,
            "object_position": null,
            "order": null,
            "overflow": null,
            "overflow_x": null,
            "overflow_y": null,
            "padding": null,
            "right": null,
            "top": null,
            "visibility": null,
            "width": null
          }
        },
        "c20cf83edeae4f4cbd4b64cb2de59a7e": {
          "model_module": "@jupyter-widgets/controls",
          "model_name": "ProgressStyleModel",
          "model_module_version": "1.5.0",
          "state": {
            "_model_module": "@jupyter-widgets/controls",
            "_model_module_version": "1.5.0",
            "_model_name": "ProgressStyleModel",
            "_view_count": null,
            "_view_module": "@jupyter-widgets/base",
            "_view_module_version": "1.2.0",
            "_view_name": "StyleView",
            "bar_color": null,
            "description_width": ""
          }
        },
        "499909fe37c94774a2b3f7fa9eaaf76e": {
          "model_module": "@jupyter-widgets/base",
          "model_name": "LayoutModel",
          "model_module_version": "1.2.0",
          "state": {
            "_model_module": "@jupyter-widgets/base",
            "_model_module_version": "1.2.0",
            "_model_name": "LayoutModel",
            "_view_count": null,
            "_view_module": "@jupyter-widgets/base",
            "_view_module_version": "1.2.0",
            "_view_name": "LayoutView",
            "align_content": null,
            "align_items": null,
            "align_self": null,
            "border": null,
            "bottom": null,
            "display": null,
            "flex": null,
            "flex_flow": null,
            "grid_area": null,
            "grid_auto_columns": null,
            "grid_auto_flow": null,
            "grid_auto_rows": null,
            "grid_column": null,
            "grid_gap": null,
            "grid_row": null,
            "grid_template_areas": null,
            "grid_template_columns": null,
            "grid_template_rows": null,
            "height": null,
            "justify_content": null,
            "justify_items": null,
            "left": null,
            "margin": null,
            "max_height": null,
            "max_width": null,
            "min_height": null,
            "min_width": null,
            "object_fit": null,
            "object_position": null,
            "order": null,
            "overflow": null,
            "overflow_x": null,
            "overflow_y": null,
            "padding": null,
            "right": null,
            "top": null,
            "visibility": null,
            "width": null
          }
        },
        "1d498b13af344ce78136f66050da1c4d": {
          "model_module": "@jupyter-widgets/controls",
          "model_name": "DescriptionStyleModel",
          "model_module_version": "1.5.0",
          "state": {
            "_model_module": "@jupyter-widgets/controls",
            "_model_module_version": "1.5.0",
            "_model_name": "DescriptionStyleModel",
            "_view_count": null,
            "_view_module": "@jupyter-widgets/base",
            "_view_module_version": "1.2.0",
            "_view_name": "StyleView",
            "description_width": ""
          }
        }
      }
    }
  },
  "nbformat": 4,
  "nbformat_minor": 0
}